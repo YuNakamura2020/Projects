{
 "cells": [
  {
   "cell_type": "markdown",
   "metadata": {
    "id": "nMROUMBW4n34"
   },
   "source": [
    "# Assignment 1\n",
    "#### Yu Nakamura"
   ]
  },
  {
   "cell_type": "markdown",
   "metadata": {
    "id": "btU3aLZTiNW6"
   },
   "source": [
    "## 1. Spam detection"
   ]
  },
  {
   "cell_type": "markdown",
   "metadata": {
    "id": "p-nMzbKPiY8S"
   },
   "source": [
    "- In this exercise, we use Bayes and na&iuml;ve Bayes classifiers to classify text message spam.\n",
    "\n",
    "- We use a dataset from the UCI machine learning repository. Details can be found here [here](https://archive.ics.uci.edu/ml/datasets/SMS+Spam+Collection).\n",
    "\n",
    "- For our convenience, I'm hosting the data file on my github page."
   ]
  },
  {
   "cell_type": "code",
   "execution_count": 179,
   "metadata": {
    "colab": {
     "base_uri": "https://localhost:8080/",
     "height": 202
    },
    "id": "NbLs8axSiYPa",
    "outputId": "81e9d3c9-7abd-4984-d668-7286dc96f7a2"
   },
   "outputs": [
    {
     "data": {
      "text/html": [
       "<div>\n",
       "<style scoped>\n",
       "    .dataframe tbody tr th:only-of-type {\n",
       "        vertical-align: middle;\n",
       "    }\n",
       "\n",
       "    .dataframe tbody tr th {\n",
       "        vertical-align: top;\n",
       "    }\n",
       "\n",
       "    .dataframe thead th {\n",
       "        text-align: right;\n",
       "    }\n",
       "</style>\n",
       "<table border=\"1\" class=\"dataframe\">\n",
       "  <thead>\n",
       "    <tr style=\"text-align: right;\">\n",
       "      <th></th>\n",
       "      <th>label</th>\n",
       "      <th>message</th>\n",
       "    </tr>\n",
       "  </thead>\n",
       "  <tbody>\n",
       "    <tr>\n",
       "      <th>0</th>\n",
       "      <td>ham</td>\n",
       "      <td>Go until jurong point, crazy.. Available only ...</td>\n",
       "    </tr>\n",
       "    <tr>\n",
       "      <th>1</th>\n",
       "      <td>ham</td>\n",
       "      <td>Ok lar... Joking wif u oni...</td>\n",
       "    </tr>\n",
       "    <tr>\n",
       "      <th>2</th>\n",
       "      <td>spam</td>\n",
       "      <td>Free entry in 2 a wkly comp to win FA Cup fina...</td>\n",
       "    </tr>\n",
       "    <tr>\n",
       "      <th>3</th>\n",
       "      <td>ham</td>\n",
       "      <td>U dun say so early hor... U c already then say...</td>\n",
       "    </tr>\n",
       "    <tr>\n",
       "      <th>4</th>\n",
       "      <td>ham</td>\n",
       "      <td>Nah I don't think he goes to usf, he lives aro...</td>\n",
       "    </tr>\n",
       "  </tbody>\n",
       "</table>\n",
       "</div>"
      ],
      "text/plain": [
       "  label                                            message\n",
       "0   ham  Go until jurong point, crazy.. Available only ...\n",
       "1   ham                      Ok lar... Joking wif u oni...\n",
       "2  spam  Free entry in 2 a wkly comp to win FA Cup fina...\n",
       "3   ham  U dun say so early hor... U c already then say...\n",
       "4   ham  Nah I don't think he goes to usf, he lives aro..."
      ]
     },
     "execution_count": 179,
     "metadata": {},
     "output_type": "execute_result"
    }
   ],
   "source": [
    "import pandas as pd\n",
    "\n",
    "url = \"https://raw.githubusercontent.com/mgreenbe/spam/main/spam.csv\"\n",
    "df = pd.read_csv(url, encoding=\"latin-1\")\n",
    "df.rename(columns={\"v1\": \"label\", \"v2\": \"message\"}, inplace=True)\n",
    "df.drop(columns=[\"Unnamed: 2\", \"Unnamed: 3\", \"Unnamed: 4\"], inplace=True)\n",
    "df.head()"
   ]
  },
  {
   "cell_type": "markdown",
   "metadata": {
    "id": "D4lidWxvjau5"
   },
   "source": [
    "Split the data into a training set (80% of the data) and a testing set (20% of the data).\n",
    "\n",
    "Compute the proportions of ham and spam in the training set."
   ]
  },
  {
   "cell_type": "markdown",
   "metadata": {
    "id": "1WJHwAA6kf6k"
   },
   "source": [
    "a. Add a feature column **length** to the dataframe `df` containing the lengths of the messages, in characters. Classify the messages in the test set as ham/spam using a Gaussian (na&iuml;) Bayes classifier trained on the length data. Record the associated testing error.\n",
    "\n",
    "Repeat this exercise with **caps**, the number of capital letters in a message, and **misc**, the number of characters in a message that aren't letters, digits, or spaces.\n",
    "\n",
    "(Since each of the classifiers in this part only considers a single feature, there is no distinction between Bayes and na&iuml;ve Bayes.)\n",
    "\n",
    "b. Construct a **Gaussian na&iuml;ve Bayes** classifier to the (**length**, **caps**, **misc**) data. Compare its performance to those considered in part (a).\n",
    "\n",
    "c. Construct a **Gaussian Bayes** classifier by fitting a 3-dimensional Gaussian distribution to the (**length**, **caps**, **misc**) data. Compare its performance to the na&iuml;ve version considered in part (b). Comment.\n",
    "\n",
    "d. Repeat part (a) with **digits**, the number of digits in a message, and **misc**, the number of characters in a message that aren't letters, digits, or spaces. Comment.\n",
    "\n",
    "e. Construct a **multinomial na&iuml;ve Bayes** classifier using frequency data as produced by `CountVectorizer`. Compare its performance to those considered above."
   ]
  },
  {
   "cell_type": "markdown",
   "metadata": {},
   "source": [
    "Here are the features that added to `df` further analysis."
   ]
  },
  {
   "cell_type": "code",
   "execution_count": 180,
   "metadata": {
    "scrolled": true
   },
   "outputs": [
    {
     "data": {
      "text/html": [
       "<div>\n",
       "<style scoped>\n",
       "    .dataframe tbody tr th:only-of-type {\n",
       "        vertical-align: middle;\n",
       "    }\n",
       "\n",
       "    .dataframe tbody tr th {\n",
       "        vertical-align: top;\n",
       "    }\n",
       "\n",
       "    .dataframe thead th {\n",
       "        text-align: right;\n",
       "    }\n",
       "</style>\n",
       "<table border=\"1\" class=\"dataframe\">\n",
       "  <thead>\n",
       "    <tr style=\"text-align: right;\">\n",
       "      <th></th>\n",
       "      <th>label</th>\n",
       "      <th>message</th>\n",
       "      <th>length</th>\n",
       "      <th>caps</th>\n",
       "      <th>digits</th>\n",
       "      <th>spaces</th>\n",
       "      <th>alphabets</th>\n",
       "      <th>misc</th>\n",
       "    </tr>\n",
       "  </thead>\n",
       "  <tbody>\n",
       "    <tr>\n",
       "      <th>0</th>\n",
       "      <td>ham</td>\n",
       "      <td>Go until jurong point, crazy.. Available only ...</td>\n",
       "      <td>111</td>\n",
       "      <td>3</td>\n",
       "      <td>0</td>\n",
       "      <td>19</td>\n",
       "      <td>83</td>\n",
       "      <td>9</td>\n",
       "    </tr>\n",
       "    <tr>\n",
       "      <th>1</th>\n",
       "      <td>ham</td>\n",
       "      <td>Ok lar... Joking wif u oni...</td>\n",
       "      <td>29</td>\n",
       "      <td>2</td>\n",
       "      <td>0</td>\n",
       "      <td>5</td>\n",
       "      <td>18</td>\n",
       "      <td>6</td>\n",
       "    </tr>\n",
       "    <tr>\n",
       "      <th>2</th>\n",
       "      <td>spam</td>\n",
       "      <td>Free entry in 2 a wkly comp to win FA Cup fina...</td>\n",
       "      <td>155</td>\n",
       "      <td>10</td>\n",
       "      <td>25</td>\n",
       "      <td>27</td>\n",
       "      <td>97</td>\n",
       "      <td>6</td>\n",
       "    </tr>\n",
       "    <tr>\n",
       "      <th>3</th>\n",
       "      <td>ham</td>\n",
       "      <td>U dun say so early hor... U c already then say...</td>\n",
       "      <td>49</td>\n",
       "      <td>2</td>\n",
       "      <td>0</td>\n",
       "      <td>10</td>\n",
       "      <td>33</td>\n",
       "      <td>6</td>\n",
       "    </tr>\n",
       "    <tr>\n",
       "      <th>4</th>\n",
       "      <td>ham</td>\n",
       "      <td>Nah I don't think he goes to usf, he lives aro...</td>\n",
       "      <td>61</td>\n",
       "      <td>2</td>\n",
       "      <td>0</td>\n",
       "      <td>12</td>\n",
       "      <td>47</td>\n",
       "      <td>2</td>\n",
       "    </tr>\n",
       "  </tbody>\n",
       "</table>\n",
       "</div>"
      ],
      "text/plain": [
       "  label                                            message  length  caps  \\\n",
       "0   ham  Go until jurong point, crazy.. Available only ...     111     3   \n",
       "1   ham                      Ok lar... Joking wif u oni...      29     2   \n",
       "2  spam  Free entry in 2 a wkly comp to win FA Cup fina...     155    10   \n",
       "3   ham  U dun say so early hor... U c already then say...      49     2   \n",
       "4   ham  Nah I don't think he goes to usf, he lives aro...      61     2   \n",
       "\n",
       "   digits  spaces  alphabets  misc  \n",
       "0       0      19         83     9  \n",
       "1       0       5         18     6  \n",
       "2      25      27         97     6  \n",
       "3       0      10         33     6  \n",
       "4       0      12         47     2  "
      ]
     },
     "execution_count": 180,
     "metadata": {},
     "output_type": "execute_result"
    }
   ],
   "source": [
    "# Add features columns\n",
    "df['length']=df['message'].str.len()\n",
    "df['caps']=df['message'].str.findall(r'[A-Z]').str.len()\n",
    "df['digits']=df['message'].str.count('\\d') # the number of digits\n",
    "df['spaces']=df['message'].str.count(' ') # the number of space\n",
    "df['alphabets']=df.apply(lambda p: sum(q.isalpha() for q in p[\"message\"] ), axis=1) # the number of alphabets\n",
    "df['misc']=df['length']-df['alphabets']-df['spaces']-df['digits'] # the number of characters in a message that aren't letters, digits, or spaces\n",
    "df.head()"
   ]
  },
  {
   "cell_type": "markdown",
   "metadata": {},
   "source": [
    "Create a new column for categorical values: 'ham' == 0, 'spam' == 1 for the further analysis "
   ]
  },
  {
   "cell_type": "code",
   "execution_count": 181,
   "metadata": {},
   "outputs": [
    {
     "data": {
      "text/html": [
       "<div>\n",
       "<style scoped>\n",
       "    .dataframe tbody tr th:only-of-type {\n",
       "        vertical-align: middle;\n",
       "    }\n",
       "\n",
       "    .dataframe tbody tr th {\n",
       "        vertical-align: top;\n",
       "    }\n",
       "\n",
       "    .dataframe thead th {\n",
       "        text-align: right;\n",
       "    }\n",
       "</style>\n",
       "<table border=\"1\" class=\"dataframe\">\n",
       "  <thead>\n",
       "    <tr style=\"text-align: right;\">\n",
       "      <th></th>\n",
       "      <th>label</th>\n",
       "      <th>message</th>\n",
       "      <th>length</th>\n",
       "      <th>caps</th>\n",
       "      <th>digits</th>\n",
       "      <th>spaces</th>\n",
       "      <th>alphabets</th>\n",
       "      <th>misc</th>\n",
       "      <th>label_num</th>\n",
       "    </tr>\n",
       "  </thead>\n",
       "  <tbody>\n",
       "    <tr>\n",
       "      <th>0</th>\n",
       "      <td>ham</td>\n",
       "      <td>Go until jurong point, crazy.. Available only ...</td>\n",
       "      <td>111</td>\n",
       "      <td>3</td>\n",
       "      <td>0</td>\n",
       "      <td>19</td>\n",
       "      <td>83</td>\n",
       "      <td>9</td>\n",
       "      <td>0</td>\n",
       "    </tr>\n",
       "    <tr>\n",
       "      <th>1</th>\n",
       "      <td>ham</td>\n",
       "      <td>Ok lar... Joking wif u oni...</td>\n",
       "      <td>29</td>\n",
       "      <td>2</td>\n",
       "      <td>0</td>\n",
       "      <td>5</td>\n",
       "      <td>18</td>\n",
       "      <td>6</td>\n",
       "      <td>0</td>\n",
       "    </tr>\n",
       "    <tr>\n",
       "      <th>2</th>\n",
       "      <td>spam</td>\n",
       "      <td>Free entry in 2 a wkly comp to win FA Cup fina...</td>\n",
       "      <td>155</td>\n",
       "      <td>10</td>\n",
       "      <td>25</td>\n",
       "      <td>27</td>\n",
       "      <td>97</td>\n",
       "      <td>6</td>\n",
       "      <td>1</td>\n",
       "    </tr>\n",
       "    <tr>\n",
       "      <th>3</th>\n",
       "      <td>ham</td>\n",
       "      <td>U dun say so early hor... U c already then say...</td>\n",
       "      <td>49</td>\n",
       "      <td>2</td>\n",
       "      <td>0</td>\n",
       "      <td>10</td>\n",
       "      <td>33</td>\n",
       "      <td>6</td>\n",
       "      <td>0</td>\n",
       "    </tr>\n",
       "    <tr>\n",
       "      <th>4</th>\n",
       "      <td>ham</td>\n",
       "      <td>Nah I don't think he goes to usf, he lives aro...</td>\n",
       "      <td>61</td>\n",
       "      <td>2</td>\n",
       "      <td>0</td>\n",
       "      <td>12</td>\n",
       "      <td>47</td>\n",
       "      <td>2</td>\n",
       "      <td>0</td>\n",
       "    </tr>\n",
       "  </tbody>\n",
       "</table>\n",
       "</div>"
      ],
      "text/plain": [
       "  label                                            message  length  caps  \\\n",
       "0   ham  Go until jurong point, crazy.. Available only ...     111     3   \n",
       "1   ham                      Ok lar... Joking wif u oni...      29     2   \n",
       "2  spam  Free entry in 2 a wkly comp to win FA Cup fina...     155    10   \n",
       "3   ham  U dun say so early hor... U c already then say...      49     2   \n",
       "4   ham  Nah I don't think he goes to usf, he lives aro...      61     2   \n",
       "\n",
       "   digits  spaces  alphabets  misc  label_num  \n",
       "0       0      19         83     9          0  \n",
       "1       0       5         18     6          0  \n",
       "2      25      27         97     6          1  \n",
       "3       0      10         33     6          0  \n",
       "4       0      12         47     2          0  "
      ]
     },
     "execution_count": 181,
     "metadata": {},
     "output_type": "execute_result"
    }
   ],
   "source": [
    "def label_to_numeric(x):\n",
    "    if x=='ham': return 0\n",
    "    if x=='spam': return 1\n",
    "\n",
    "df['label_num']=df['label'].apply(label_to_numeric)\n",
    "df.head()"
   ]
  },
  {
   "cell_type": "markdown",
   "metadata": {},
   "source": [
    "a. Add a feature column **length** to the dataframe `df` containing the lengths of the messages, in characters. Classify the messages in the test set as ham/spam using a Gaussian (na&iuml;) Bayes classifier trained on the length data. Record the associated testing error.\n",
    "\n",
    "Repeat this exercise with **caps**, the number of capital letters in a message, and **misc**, the number of characters in a message that aren't letters, digits, or spaces.\n",
    "\n",
    "(Since each of the classifiers in this part only considers a single feature, there is no distinction between Bayes and na&iuml;ve Bayes.)"
   ]
  },
  {
   "cell_type": "code",
   "execution_count": 182,
   "metadata": {},
   "outputs": [],
   "source": [
    "from sklearn.naive_bayes import GaussianNB # To model the Gaussian Navie Bayes classifier\n",
    "from sklearn.metrics import accuracy_score # To calculate the accuracy score of the model\n",
    "from sklearn.model_selection import train_test_split\n",
    "import random"
   ]
  },
  {
   "cell_type": "code",
   "execution_count": 183,
   "metadata": {
    "scrolled": true
   },
   "outputs": [
    {
     "name": "stdout",
     "output_type": "stream",
     "text": [
      "testing accuracy with feature length = 0.863677130044843\n"
     ]
    }
   ],
   "source": [
    "random.seed(10)\n",
    "\n",
    "X_tr, X_te, y_tr, y_te = train_test_split(df[['length']], df[['label_num']], test_size=0.2)\n",
    "\n",
    "clf = GaussianNB()\n",
    "clf.fit(X_tr, y_tr.values.ravel())\n",
    "y_pred = clf.predict(X_te)\n",
    "\n",
    "acc = accuracy_score(y_te, y_pred)\n",
    "print(f\"testing accuracy with feature length = {acc}\")"
   ]
  },
  {
   "cell_type": "code",
   "execution_count": 184,
   "metadata": {},
   "outputs": [
    {
     "name": "stdout",
     "output_type": "stream",
     "text": [
      "testing accuracy with feature caps = 0.852017937219731\n"
     ]
    }
   ],
   "source": [
    "random.seed(10)\n",
    "\n",
    "X_tr, X_te, y_tr, y_te = train_test_split(df[['caps']], df[['label_num']], test_size=0.2)\n",
    "\n",
    "clf = GaussianNB()\n",
    "clf.fit(X_tr, y_tr.values.ravel())\n",
    "y_pred = clf.predict(X_te)\n",
    "\n",
    "acc = accuracy_score(y_te, y_pred)\n",
    "print(f\"testing accuracy with feature caps = {acc}\")"
   ]
  },
  {
   "cell_type": "code",
   "execution_count": 185,
   "metadata": {},
   "outputs": [
    {
     "name": "stdout",
     "output_type": "stream",
     "text": [
      "testing accuracy with feature misc = 0.8717488789237668\n"
     ]
    }
   ],
   "source": [
    "random.seed(10)\n",
    "\n",
    "X_tr, X_te, y_tr, y_te = train_test_split(df[['misc']], df[['label_num']], test_size=0.2)\n",
    "\n",
    "clf = GaussianNB()\n",
    "clf.fit(X_tr, y_tr.values.ravel())\n",
    "y_pred = clf.predict(X_te)\n",
    "\n",
    "acc = accuracy_score(y_te, y_pred)\n",
    "print(f\"testing accuracy with feature misc = {acc}\")"
   ]
  },
  {
   "cell_type": "markdown",
   "metadata": {},
   "source": [
    "b. Construct a **Gaussian na&iuml;ve Bayes** classifier to the (**length**, **caps**, **misc**) data. Compare its performance to those considered in part (a)."
   ]
  },
  {
   "cell_type": "code",
   "execution_count": 186,
   "metadata": {},
   "outputs": [],
   "source": [
    "X = df[['length', 'caps', 'misc']]\n",
    "y = df[['label_num']]"
   ]
  },
  {
   "cell_type": "code",
   "execution_count": 187,
   "metadata": {
    "scrolled": true
   },
   "outputs": [
    {
     "name": "stdout",
     "output_type": "stream",
     "text": [
      "testing accuracy with feature length, caps and misc = 0.9183856502242153\n"
     ]
    }
   ],
   "source": [
    "random.seed(10)\n",
    "\n",
    "X_tr, X_te, y_tr, y_te = train_test_split(X, y, test_size=0.2)\n",
    "\n",
    "clf = GaussianNB()\n",
    "clf.fit(X_tr, y_tr.values.ravel())\n",
    "y_pred = clf.predict(X_te)\n",
    "\n",
    "acc = accuracy_score(y_te, y_pred)\n",
    "print(f\"testing accuracy with feature length, caps and misc = {acc}\")"
   ]
  },
  {
   "cell_type": "markdown",
   "metadata": {},
   "source": [
    "Compared to the result from part (a), the test accurancy is improving when using multiple features to classify the spam or not. "
   ]
  },
  {
   "cell_type": "markdown",
   "metadata": {},
   "source": [
    "c. Construct a **Gaussian Bayes** classifier by fitting a 3-dimensional Gaussian distribution to the (**length**, **caps**, **misc**) data. Compare its performance to the na&iuml;ve version considered in part (b). Comment."
   ]
  },
  {
   "cell_type": "code",
   "execution_count": 188,
   "metadata": {},
   "outputs": [
    {
     "name": "stdout",
     "output_type": "stream",
     "text": [
      "testing accuracy = 0.8959641255605382\n"
     ]
    }
   ],
   "source": [
    "import numpy as np\n",
    "from scipy.stats import multivariate_normal\n",
    "from sklearn.model_selection import train_test_split\n",
    "\n",
    "norm = multivariate_normal.pdf\n",
    "\n",
    "np.random.seed(10) # important for repeatability\n",
    "\n",
    "data = df.to_numpy() # convert df (panda dataframe) to numpy array for the implemetion of below code\n",
    "y = data[:,8].astype(int) \n",
    "X = data[:,[2,3, 7]].astype(float) # features (length, caps, misc)\n",
    "\n",
    "X_tr, X_te, y_tr, y_te = train_test_split(X, y, test_size=0.2)\n",
    "\n",
    "# fit the model (training data)\n",
    "mean0 = np.mean(X_tr[y_tr == 0, :], axis=0)\n",
    "mean1 = np.mean(X_tr[y_tr == 1, :], axis=0)\n",
    "cov0 = np.cov(X_tr[y_tr == 0,:].T)\n",
    "cov1 = np.cov(X_tr[y_tr == 1,:].T)\n",
    "pY0 = 1 - np.mean(y_tr) # probability of class 0\n",
    "pY1 = np.mean(y_tr) # probability of class 1\n",
    "\n",
    "# prediction (testing data)\n",
    "pXxY0 = norm(X_te, mean=mean0, cov=cov0, allow_singular=True)\n",
    "pXxY1 = norm(X_te, mean=mean1, cov=cov1, allow_singular=True)\n",
    "pY1Xx = pXxY1*pY1/(pXxY0*pY0 + pXxY1*pY1)\n",
    "\n",
    "acc = np.mean(1*(pY1Xx > 0.5) == y_te)\n",
    "print(f\"testing accuracy = {acc}\")"
   ]
  },
  {
   "cell_type": "markdown",
   "metadata": {},
   "source": [
    "Compared to the Naive Bayes classifer model from part (b) ~ 0.918, the testing accuracy from Bayes classifer is slighthly low ~ 0.896. When assume the three feature (length, caps and misc) are independent (Naive Bayes), we could get the better fit classification model. \n",
    "\n",
    "FYI To check an independent assumption for features variables, here are codes for correlation matrix and VIF test:\n",
    "- From the matrix table below, an correlation between three features are relatively not higher., range from 0.27 to 0.66.\n",
    "- The result of VIF test shows that there is no evidence of high multicollinearity between the features. (VIF = 1: no correlation, VIF >=5: high multicollinearity between the independent variables and the others exists)\n",
    "\n",
    "Since there is no strong evidence of multicollinearity that three features are dependent, we could suggest the Naive Bayes classifer is better fit to use for the classification of spam email."
   ]
  },
  {
   "cell_type": "code",
   "execution_count": 189,
   "metadata": {
    "scrolled": true
   },
   "outputs": [
    {
     "name": "stdout",
     "output_type": "stream",
     "text": [
      "          length      caps      misc\n",
      "length  1.000000  0.386437  0.645702\n",
      "caps    0.386437  1.000000  0.266569\n",
      "misc    0.645702  0.266569  1.000000\n"
     ]
    }
   ],
   "source": [
    "features = df[['length', 'caps', 'misc']]\n",
    "corrMatrix = features.corr()\n",
    "print(corrMatrix)"
   ]
  },
  {
   "cell_type": "code",
   "execution_count": 190,
   "metadata": {},
   "outputs": [
    {
     "data": {
      "text/html": [
       "<div>\n",
       "<style scoped>\n",
       "    .dataframe tbody tr th:only-of-type {\n",
       "        vertical-align: middle;\n",
       "    }\n",
       "\n",
       "    .dataframe tbody tr th {\n",
       "        vertical-align: top;\n",
       "    }\n",
       "\n",
       "    .dataframe thead th {\n",
       "        text-align: right;\n",
       "    }\n",
       "</style>\n",
       "<table border=\"1\" class=\"dataframe\">\n",
       "  <thead>\n",
       "    <tr style=\"text-align: right;\">\n",
       "      <th></th>\n",
       "      <th>variables</th>\n",
       "      <th>VIF</th>\n",
       "    </tr>\n",
       "  </thead>\n",
       "  <tbody>\n",
       "    <tr>\n",
       "      <th>0</th>\n",
       "      <td>length</td>\n",
       "      <td>3.563285</td>\n",
       "    </tr>\n",
       "    <tr>\n",
       "      <th>1</th>\n",
       "      <td>caps</td>\n",
       "      <td>1.462936</td>\n",
       "    </tr>\n",
       "    <tr>\n",
       "      <th>2</th>\n",
       "      <td>misc</td>\n",
       "      <td>3.148458</td>\n",
       "    </tr>\n",
       "  </tbody>\n",
       "</table>\n",
       "</div>"
      ],
      "text/plain": [
       "  variables       VIF\n",
       "0    length  3.563285\n",
       "1      caps  1.462936\n",
       "2      misc  3.148458"
      ]
     },
     "execution_count": 190,
     "metadata": {},
     "output_type": "execute_result"
    }
   ],
   "source": [
    "# Import library for VIF\n",
    "from statsmodels.stats.outliers_influence import variance_inflation_factor\n",
    "\n",
    "def calc_vif(X):\n",
    "\n",
    "    # Calculating VIF\n",
    "    vif = pd.DataFrame()\n",
    "    vif[\"variables\"] = X.columns\n",
    "    vif[\"VIF\"] = [variance_inflation_factor(X.values, i) for i in range(X.shape[1])]\n",
    "\n",
    "    return(vif)\n",
    "\n",
    "calc_vif(features)"
   ]
  },
  {
   "cell_type": "markdown",
   "metadata": {},
   "source": [
    "d. Repeat part (a) with **digits**, the number of digits in a message. Comment."
   ]
  },
  {
   "cell_type": "code",
   "execution_count": 191,
   "metadata": {},
   "outputs": [
    {
     "name": "stdout",
     "output_type": "stream",
     "text": [
      "testing accuracy with feature digits = 0.9632286995515695\n"
     ]
    }
   ],
   "source": [
    "random.seed(10)\n",
    "\n",
    "X_tr, X_te, y_tr, y_te = train_test_split(df[['digits']], df[['label_num']], test_size=0.2)\n",
    "\n",
    "clf = GaussianNB()\n",
    "clf.fit(X_tr, y_tr.values.ravel())\n",
    "y_pred = clf.predict(X_te)\n",
    "\n",
    "acc = accuracy_score(y_te, y_pred)\n",
    "print(f\"testing accuracy with feature digits = {acc}\")"
   ]
  },
  {
   "cell_type": "markdown",
   "metadata": {},
   "source": [
    "As you can see the accuracy from both result in above, the accuracy with 'digit' is 0.96 whcih is quite higher than the one with other single feature as well as Gausiann Naive Model with three feature length, misc and caps.\n",
    "\n",
    "The feature 'digits' explain well to classify the spam email."
   ]
  },
  {
   "cell_type": "markdown",
   "metadata": {},
   "source": [
    "e. Construct a **multinomial na&iuml;ve Bayes** classifier using frequency data as produced by `CountVectorizer`. Compare its performance to those considered above."
   ]
  },
  {
   "cell_type": "code",
   "execution_count": 192,
   "metadata": {},
   "outputs": [],
   "source": [
    "from sklearn.model_selection import train_test_split\n",
    "from sklearn.feature_extraction.text import CountVectorizer\n",
    "from sklearn.naive_bayes import MultinomialNB\n",
    "import random"
   ]
  },
  {
   "cell_type": "code",
   "execution_count": 193,
   "metadata": {},
   "outputs": [],
   "source": [
    "random.seed(10)\n",
    "X_tr, X_te, y_tr, y_te = train_test_split(df['message'], df['label'], test_size=0.2)"
   ]
  },
  {
   "cell_type": "code",
   "execution_count": 194,
   "metadata": {},
   "outputs": [
    {
     "name": "stdout",
     "output_type": "stream",
     "text": [
      "Testing accuracy: 0.99\n"
     ]
    }
   ],
   "source": [
    "model = MultinomialNB()\n",
    "vectorizer = CountVectorizer()\n",
    "model.fit(vectorizer.fit_transform(X_tr), y_tr)\n",
    "y_pred = model.predict(vectorizer.transform(X_te))\n",
    "print(f\"Testing accuracy: {np.mean(y_pred == y_te):.2f}\")"
   ]
  },
  {
   "cell_type": "markdown",
   "metadata": {},
   "source": [
    "The performance is dramatically improving compared to the approach with Gaussian Naive Bayes classifer from part (a) to (c)  to 0.99.\n",
    "\n",
    "This accuracy is higher than the one with a feature 'digit' from part (d) as well.\n",
    "\n",
    "A multinomial naive Bayes could be a powerful tool to build an email spam classifer with text data set."
   ]
  },
  {
   "cell_type": "markdown",
   "metadata": {
    "id": "YDsDUa6IybiS"
   },
   "source": [
    "## 2. Distance-$h$ neighbors; broadcasting"
   ]
  },
  {
   "cell_type": "markdown",
   "metadata": {
    "id": "lRCwCk1oywTj"
   },
   "source": [
    "- In this exercise, we implement a simple, 1-dimensional $h$-radius neighbors regressor. To practice broadcasting, **do this without using any loops**.\n",
    "\n",
    "- The $k$-nearest neighbors regressor maps to $x$ to the average of the $y$-values of $k$ training points whose $x$-coordinates are closest to $x$.\n",
    "\n",
    "- The distance-$h$ neighbors regressor maps $x$ to the average of the $y$-values of the training points whose $x$-coordinates are within a distance $h$ of $x$. (The number of such training points will vary with $x$.)"
   ]
  },
  {
   "cell_type": "markdown",
   "metadata": {
    "id": "AK3RTrlu0OdM"
   },
   "source": [
    "a. Write a function `make_mask` that constructs a *distance-$h$ mask* for a training data matrix `X_tr` with respect to a testing data matrix `X_te`. It should take `X_tr`, `X_te`, and `h` as inputs and return a `len(X_tr)`-by-`len(X_te)` matrix `mask` whose `[i,j]`-entry is `1` if the distance from `X_tr[i]` to `X_te[j]` is `< h` and `0`, otherwise."
   ]
  },
  {
   "cell_type": "code",
   "execution_count": 195,
   "metadata": {
    "id": "Cc9BTWjv0twu"
   },
   "outputs": [],
   "source": [
    "import numpy as np\n",
    "\n",
    "def make_mask(X_tr, X_te, h):\n",
    "    distance = np.sqrt((X_te-X_tr.reshape(-1,1))**2)\n",
    "    mask = np.where(distance<h, 1, 0)\n",
    "    return mask"
   ]
  },
  {
   "cell_type": "markdown",
   "metadata": {
    "id": "HakAzsnBz8Jz"
   },
   "source": [
    "b. Use your `make_mask` function to construct a python class implementing the distance-$h$ neighbors regressor by fleshing out `predict` method below:"
   ]
  },
  {
   "cell_type": "code",
   "execution_count": 196,
   "metadata": {
    "id": "FxmR3jkR2MCr"
   },
   "outputs": [],
   "source": [
    "from sklearn.base import BaseEstimator, RegressorMixin\n",
    "\n",
    "class DistanceRegressor(BaseEstimator, RegressorMixin):\n",
    "  def __init__(self, h=None):\n",
    "    if h is None:\n",
    "      raise \"You forgot the h!\"\n",
    "    self.h = h\n",
    "\n",
    "  def fit(self, X_tr, y_tr):\n",
    "    self.X_tr = X_tr\n",
    "    self.y_tr = y_tr\n",
    "\n",
    "  def predict(self, X_te):\n",
    "    mask = make_mask(self.X_tr, X_te, h)    \n",
    "    pred = [np.mean(y_tr[mask[:,i]==1]) for i in range(mask.shape[1])]\n",
    "    \n",
    "    return pred"
   ]
  },
  {
   "cell_type": "markdown",
   "metadata": {
    "id": "nwJmqi3w4bVR"
   },
   "source": [
    "Run the following code to produce an example:"
   ]
  },
  {
   "cell_type": "code",
   "execution_count": 197,
   "metadata": {
    "colab": {
     "base_uri": "https://localhost:8080/",
     "height": 265
    },
    "id": "o0cpKVPS2RWf",
    "outputId": "80fb8e47-d4a0-4bab-e811-97350f0ae41f",
    "scrolled": false
   },
   "outputs": [
    {
     "data": {
      "image/png": "[encoded data removed]",
      "text/plain": [
       "<Figure size 432x288 with 1 Axes>"
      ]
     },
     "metadata": {
      "needs_background": "light"
     },
     "output_type": "display_data"
    }
   ],
   "source": [
    "from matplotlib import pyplot as plt\n",
    "\n",
    "np.random.seed(42)\n",
    "X_tr = np.random.uniform(size=50)\n",
    "y_tr = (X_tr - 0.5)**2 + 0.05*np.random.normal(size=50)\n",
    "\n",
    "h=0.1\n",
    "model = DistanceRegressor(h)\n",
    "model.fit(X_tr, y_tr)\n",
    "\n",
    "X_te = np.linspace(0, 1, 100)\n",
    "y_pred = model.predict(X_te) # uncomment when you've implemented DistanceRegressor\n",
    "plt.plot(X_tr, y_tr, 'o') \n",
    "plt.plot(X_te, y_pred, lw=3) # uncomment when you've implemented DistanceRegressor\n",
    "plt.show()"
   ]
  },
  {
   "cell_type": "code",
   "execution_count": null,
   "metadata": {},
   "outputs": [],
   "source": []
  }
 ],
 "metadata": {
  "colab": {
   "collapsed_sections": [],
   "name": "DATA_607__Assignment_1.ipynb",
   "provenance": []
  },
  "kernelspec": {
   "display_name": "Python 3",
   "language": "python",
   "name": "python3"
  },
  "language_info": {
   "codemirror_mode": {
    "name": "ipython",
    "version": 3
   },
   "file_extension": ".py",
   "mimetype": "text/x-python",
   "name": "python",
   "nbconvert_exporter": "python",
   "pygments_lexer": "ipython3",
   "version": "3.8.3"
  }
 },
 "nbformat": 4,
 "nbformat_minor": 1
}
